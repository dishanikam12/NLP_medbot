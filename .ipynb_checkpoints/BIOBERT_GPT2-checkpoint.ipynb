{
 "cells": [
  {
   "cell_type": "code",
   "execution_count": 1,
   "id": "44b6fc58",
   "metadata": {},
   "outputs": [],
   "source": [
    "import json\n",
    "import pandas as pd\n",
    "import numpy"
   ]
  },
  {
   "cell_type": "code",
   "execution_count": 2,
   "id": "717d587d",
   "metadata": {},
   "outputs": [
    {
     "data": {
      "text/html": [
       "<div>\n",
       "<style scoped>\n",
       "    .dataframe tbody tr th:only-of-type {\n",
       "        vertical-align: middle;\n",
       "    }\n",
       "\n",
       "    .dataframe tbody tr th {\n",
       "        vertical-align: top;\n",
       "    }\n",
       "\n",
       "    .dataframe thead th {\n",
       "        text-align: right;\n",
       "    }\n",
       "</style>\n",
       "<table border=\"1\" class=\"dataframe\">\n",
       "  <thead>\n",
       "    <tr style=\"text-align: right;\">\n",
       "      <th></th>\n",
       "      <th>answer</th>\n",
       "      <th>question</th>\n",
       "      <th>url</th>\n",
       "      <th>tags</th>\n",
       "    </tr>\n",
       "  </thead>\n",
       "  <tbody>\n",
       "    <tr>\n",
       "      <th>0</th>\n",
       "      <td>stopping smoking is about will power and being...</td>\n",
       "      <td>how do i stop smoking now</td>\n",
       "      <td>http://ehealthforum.com/health/stop-smoking-qu...</td>\n",
       "      <td>[addiction, stop smoking]</td>\n",
       "    </tr>\n",
       "    <tr>\n",
       "      <th>1</th>\n",
       "      <td>hello this sounds quite unfamiliar that due to...</td>\n",
       "      <td>i had a tubaligation 4 years ago and also have...</td>\n",
       "      <td>http://ehealthforum.com/health/endometriosis-q...</td>\n",
       "      <td>[pregnancy, diet, endometriosis]</td>\n",
       "    </tr>\n",
       "    <tr>\n",
       "      <th>2</th>\n",
       "      <td>extra caffeine can cause gastric discomfort th...</td>\n",
       "      <td>could extra caffeine consumption be a cause of...</td>\n",
       "      <td>http://ehealthforum.com/health/caffeine-consum...</td>\n",
       "      <td>[breast cancer, cancer, breasts]</td>\n",
       "    </tr>\n",
       "    <tr>\n",
       "      <th>3</th>\n",
       "      <td>hello thanks for submitting your question here...</td>\n",
       "      <td>hello- i am a 24 year old female 5\"4 &amp; 115 lb ...</td>\n",
       "      <td>http://ehealthforum.com/health/pcos-one-ovary-...</td>\n",
       "      <td>[hair loss, diet, acne, ovulation and ovaries]</td>\n",
       "    </tr>\n",
       "    <tr>\n",
       "      <th>4</th>\n",
       "      <td>i am glad to help you out. this is not possibl...</td>\n",
       "      <td>i was wanting to know if you could tell me if ...</td>\n",
       "      <td>http://ehealthforum.com/health/not-knowing-you...</td>\n",
       "      <td>[am i pregnant, pregnant, urine pregnancy test...</td>\n",
       "    </tr>\n",
       "  </tbody>\n",
       "</table>\n",
       "</div>"
      ],
      "text/plain": [
       "                                              answer  \\\n",
       "0  stopping smoking is about will power and being...   \n",
       "1  hello this sounds quite unfamiliar that due to...   \n",
       "2  extra caffeine can cause gastric discomfort th...   \n",
       "3  hello thanks for submitting your question here...   \n",
       "4  i am glad to help you out. this is not possibl...   \n",
       "\n",
       "                                            question  \\\n",
       "0                          how do i stop smoking now   \n",
       "1  i had a tubaligation 4 years ago and also have...   \n",
       "2  could extra caffeine consumption be a cause of...   \n",
       "3  hello- i am a 24 year old female 5\"4 & 115 lb ...   \n",
       "4  i was wanting to know if you could tell me if ...   \n",
       "\n",
       "                                                 url  \\\n",
       "0  http://ehealthforum.com/health/stop-smoking-qu...   \n",
       "1  http://ehealthforum.com/health/endometriosis-q...   \n",
       "2  http://ehealthforum.com/health/caffeine-consum...   \n",
       "3  http://ehealthforum.com/health/pcos-one-ovary-...   \n",
       "4  http://ehealthforum.com/health/not-knowing-you...   \n",
       "\n",
       "                                                tags  \n",
       "0                          [addiction, stop smoking]  \n",
       "1                   [pregnancy, diet, endometriosis]  \n",
       "2                   [breast cancer, cancer, breasts]  \n",
       "3     [hair loss, diet, acne, ovulation and ovaries]  \n",
       "4  [am i pregnant, pregnant, urine pregnancy test...  "
      ]
     },
     "execution_count": 2,
     "metadata": {},
     "output_type": "execute_result"
    }
   ],
   "source": [
    "df = pd.read_json('biobert_data.json')\n",
    "df.head()"
   ]
  },
  {
   "cell_type": "code",
   "execution_count": 3,
   "id": "b1a78e69",
   "metadata": {},
   "outputs": [
    {
     "data": {
      "application/vnd.jupyter.widget-view+json": {
       "model_id": "0b5b44a6b2184b678e0005f659357fbe",
       "version_major": 2,
       "version_minor": 0
      },
      "text/plain": [
       "  0%|          | 0/171 [00:00<?, ?it/s]"
      ]
     },
     "metadata": {},
     "output_type": "display_data"
    }
   ],
   "source": [
    "#function to extract the negative samples using tags\n",
    "def extract_negative_samples(question,tags):\n",
    "  stop=False\n",
    "  while (not stop):\n",
    "    sample_row= df.sample()\n",
    "    sample_tags=sample_row.tags.values[0]\n",
    "    inter_tags=set(tags[0]).intersection(set(sample_tags))\n",
    "    if len(inter_tags)==0:\n",
    "      stop=True\n",
    "  return sample_row\n",
    "\n",
    "#preparing the negative labelled dataset\n",
    "from tqdm.notebook import tqdm\n",
    "tqdm.pandas()\n",
    "\n",
    "negative_labels=df.progress_apply(lambda x: pd.Series([x.question,extract_negative_samples(x.question,x.tags).answer.values[0],x.tags]),axis=1)\n",
    "negative_labels['label']=-1.0\n",
    "negative_labels.columns=['question','answer','tags','label']\n",
    "#negative_labels"
   ]
  },
  {
   "cell_type": "code",
   "execution_count": 4,
   "id": "712c78dd",
   "metadata": {},
   "outputs": [],
   "source": [
    "import re\n",
    "#preprocessing questions and answers.\n",
    "def decontractions(phrase):\n",
    "    \"\"\"decontracted takes text and convert contractions into natural form.\n",
    "     ref: https://stackoverflow.com/questions/19790188/expanding-english-language-contractions-in-python/47091490#47091490\"\"\"\n",
    "    phrase = re.sub(r\"won\\'t\", \"will not\", phrase)\n",
    "    phrase = re.sub(r\"can\\'t\", \"can not\", phrase)\n",
    "    phrase = re.sub(r\"won\\’t\", \"will not\", phrase)\n",
    "    phrase = re.sub(r\"can\\’t\", \"can not\", phrase)\n",
    "    phrase = re.sub(r\"n\\'t\", \" not\", phrase)\n",
    "    phrase = re.sub(r\"\\'re\", \" are\", phrase)\n",
    "    phrase = re.sub(r\"\\'s\", \" is\", phrase)\n",
    "    phrase = re.sub(r\"\\'d\", \" would\", phrase)\n",
    "    phrase = re.sub(r\"\\'ll\", \" will\", phrase)\n",
    "    phrase = re.sub(r\"\\'t\", \" not\", phrase)\n",
    "    phrase = re.sub(r\"\\'ve\", \" have\", phrase)\n",
    "    phrase = re.sub(r\"\\'m\", \" am\", phrase)\n",
    "\n",
    "    phrase = re.sub(r\"n\\’t\", \" not\", phrase)\n",
    "    phrase = re.sub(r\"\\’re\", \" are\", phrase)\n",
    "    phrase = re.sub(r\"\\’s\", \" is\", phrase)\n",
    "    phrase = re.sub(r\"\\’d\", \" would\", phrase)\n",
    "    phrase = re.sub(r\"\\’ll\", \" will\", phrase)\n",
    "    phrase = re.sub(r\"\\’t\", \" not\", phrase)\n",
    "    phrase = re.sub(r\"\\’ve\", \" have\", phrase)\n",
    "    phrase = re.sub(r\"\\’m\", \" am\", phrase)\n",
    "\n",
    "    return phrase\n",
    "\n",
    "\n",
    "def preprocess(text):\n",
    "    # convert all the text into lower letters\n",
    "    # remove the words betweent brakets ()\n",
    "    # remove these characters: {'$', ')', '?', '\"', '’', '.',  '°', '!', ';', '/', \"'\", '€', '%', ':', ',', '('}\n",
    "    # replace these spl characters with space: '\\u200b', '\\xa0', '-', '/'\n",
    "    \n",
    "    text = text.lower()\n",
    "    text = decontractions(text)\n",
    "    text = re.sub('[$)\\?\"’.°!;\\'€%:,(/]', '', text)\n",
    "    text = re.sub('\\u200b', ' ', text)\n",
    "    text = re.sub('\\xa0', ' ', text)\n",
    "    text = re.sub('-', ' ', text)\n",
    "    return text\n",
    "\n",
    "\n",
    "df['preprocessed_question'] = df['question'].apply(preprocess)\n",
    "df['preprocessed_answer'] = df['answer'].apply(preprocess)\n",
    "#df.head()\n",
    "\n",
    "\n"
   ]
  },
  {
   "cell_type": "code",
   "execution_count": 5,
   "id": "c9352730",
   "metadata": {
    "scrolled": true
   },
   "outputs": [
    {
     "ename": "ModuleNotFoundError",
     "evalue": "No module named 'transformers'",
     "output_type": "error",
     "traceback": [
      "\u001b[1;31m---------------------------------------------------------------------------\u001b[0m",
      "\u001b[1;31mModuleNotFoundError\u001b[0m                       Traceback (most recent call last)",
      "Input \u001b[1;32mIn [5]\u001b[0m, in \u001b[0;36m<cell line: 1>\u001b[1;34m()\u001b[0m\n\u001b[1;32m----> 1\u001b[0m \u001b[38;5;28;01mfrom\u001b[39;00m \u001b[38;5;21;01mtransformers\u001b[39;00m \u001b[38;5;28;01mimport\u001b[39;00m BertTokenizer\n\u001b[0;32m      3\u001b[0m tokenizer \u001b[38;5;241m=\u001b[39m BertTokenizer\u001b[38;5;241m.\u001b[39mfrom_pretrained(\u001b[38;5;124m\"\u001b[39m\u001b[38;5;124mvocab.txt\u001b[39m\u001b[38;5;124m\"\u001b[39m)\n",
      "\u001b[1;31mModuleNotFoundError\u001b[0m: No module named 'transformers'"
     ]
    }
   ],
   "source": [
    "from transformers import BertTokenizer\n",
    "\n",
    "tokenizer = BertTokenizer.from_pretrained(\"vocab.txt\")"
   ]
  },
  {
   "cell_type": "code",
   "execution_count": null,
   "id": "ae40a59b",
   "metadata": {},
   "outputs": [],
   "source": [
    "#https://blog.tensorflow.org/2019/05/transformer-chatbot-tutorial-with-tensorflow-2.html\n",
    "#Setting Max_length to be 512 as discussed above\n",
    "MAX_LENGTH = 512\n",
    "import tensorflow as tf\n",
    "\n",
    "\n",
    "# Tokenize, filter and pad sentences\n",
    "def tokenize_and_filter(question, answer):\n",
    "  tokenized_questions, tokenized_answers = [], []\n",
    "  \n",
    "  for (question, answer) in zip(question, answer):\n",
    "    # generating sequences\n",
    "    tokenized_question =  biobert_tokenizer.encode(question)\n",
    "    tokenized_answer = biobert_tokenizer.encode(answer)\n",
    "    \n",
    "    tokenized_questions.append(tokenized_question)\n",
    "    tokenized_answers.append(tokenized_answer)\n",
    "\n",
    "  # padding the sequences\n",
    "  tokenized_questions = tf.keras.preprocessing.sequence.pad_sequences(\n",
    "      tokenized_questions, maxlen=MAX_LENGTH, padding='post')\n",
    "  tokenized_answers = tf.keras.preprocessing.sequence.pad_sequences(\n",
    "      tokenized_answers, maxlen=MAX_LENGTH, padding='post')\n",
    "  \n",
    "  return tokenized_questions, tokenized_answers\n",
    "\n",
    "#tokenizing and padding the train questions and answers\n",
    "q_list = df[\"preprocessed_question\"].values.tolist()\n",
    "a_list = df[\"preprocessed_answer\"].values.tolist()\n",
    "\n",
    "\n"
   ]
  },
  {
   "cell_type": "code",
   "execution_count": null,
   "id": "352b3b53",
   "metadata": {},
   "outputs": [],
   "source": [
    "for i in range(len(q_list)):\n",
    "    questions, answers = tokenize_and_filter(q_list[i], a_list[i])\n",
    "\n",
    "print(questions)\n",
    "\n"
   ]
  },
  {
   "cell_type": "code",
   "execution_count": null,
   "id": "3628c8ab",
   "metadata": {},
   "outputs": [],
   "source": [
    "questions, answers = tokenize_and_filter(question, answer)\n",
    "\n",
    "#preparing the question mask and the answer mask of the train dataset\n",
    "train_question_mask=[[1 if token!=0 else 0 for token in question] for question in questions]\n",
    "train_answer_mask=[[1 if token!=0 else 0 for token in answer] for answer in answers]"
   ]
  },
  {
   "cell_type": "code",
   "execution_count": null,
   "id": "c198f2ae",
   "metadata": {},
   "outputs": [],
   "source": []
  },
  {
   "cell_type": "code",
   "execution_count": null,
   "id": "0951f428",
   "metadata": {},
   "outputs": [],
   "source": []
  }
 ],
 "metadata": {
  "kernelspec": {
   "display_name": "Python 3 (ipykernel)",
   "language": "python",
   "name": "python3"
  },
  "language_info": {
   "codemirror_mode": {
    "name": "ipython",
    "version": 3
   },
   "file_extension": ".py",
   "mimetype": "text/x-python",
   "name": "python",
   "nbconvert_exporter": "python",
   "pygments_lexer": "ipython3",
   "version": "3.10.6"
  }
 },
 "nbformat": 4,
 "nbformat_minor": 5
}
